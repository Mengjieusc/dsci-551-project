{
 "cells": [
  {
   "cell_type": "code",
   "execution_count": 1,
   "id": "16e1be6f-aab9-433a-a8ab-81765501efa5",
   "metadata": {},
   "outputs": [],
   "source": [
    "import pandas"
   ]
  },
  {
   "cell_type": "code",
   "execution_count": 2,
   "id": "60491492-9f64-486e-b620-897cdc75b7cf",
   "metadata": {},
   "outputs": [],
   "source": [
    "from sodapy import Socrata"
   ]
  },
  {
   "cell_type": "markdown",
   "id": "99b4f7b3-f0f8-4020-be2b-d71d63fd6f81",
   "metadata": {},
   "source": [
    "# read data from lacity.org"
   ]
  },
  {
   "cell_type": "code",
   "execution_count": 3,
   "id": "3574cc52-c456-4b79-b705-ae992fa85945",
   "metadata": {},
   "outputs": [],
   "source": [
    "#client = Socrata(\"data.lacity.org\", None)\n",
    "client = Socrata(\"data.lacity.org\",\n",
    "                  \"qUZ5uY8jbD43IRFwhvgZFalnn\",\n",
    "                  username=\"qiyue@usc.edu\",\n",
    "                  password=\"P@ssword123\")\n",
    "crimes = client.get_all(\"2nrs-mtv8\", where=\"date_occ between '2021-01-01T00:00:00.000' and '2021-12-31T00:00:00.000'\")"
   ]
  },
  {
   "cell_type": "markdown",
   "id": "56ab4ab3-54dd-427f-a39e-70c9bb86eb10",
   "metadata": {},
   "source": [
    "# output a json file"
   ]
  },
  {
   "cell_type": "code",
   "execution_count": 4,
   "id": "605a8da6-206f-4e29-9a9f-912dd9eb2c0e",
   "metadata": {},
   "outputs": [
    {
     "data": {
      "text/plain": [
       "206575"
      ]
     },
     "execution_count": 4,
     "metadata": {},
     "output_type": "execute_result"
    }
   ],
   "source": [
    "import itertools\n",
    "data_json = list(itertools.islice(crimes,206575))\n",
    "len(data_json)"
   ]
  },
  {
   "cell_type": "code",
   "execution_count": 5,
   "id": "bcfcb800-4978-45ba-a608-88178e335e9a",
   "metadata": {},
   "outputs": [],
   "source": [
    "record_num = range(1,len(data_json)+1)\n",
    "#record_ls=[]\n",
    "#for i in record_num:\n",
    "#    each = 'incident_' + str(i)\n",
    "#    record_ls.append(each)"
   ]
  },
  {
   "cell_type": "code",
   "execution_count": 6,
   "id": "8541a738-aef9-4fca-a6d7-ce65bff4f752",
   "metadata": {},
   "outputs": [
    {
     "data": {
      "text/plain": [
       "206575"
      ]
     },
     "execution_count": 6,
     "metadata": {},
     "output_type": "execute_result"
    }
   ],
   "source": [
    "len(record_ls)"
   ]
  },
  {
   "cell_type": "code",
   "execution_count": 7,
   "id": "4f856970-1349-44b4-9634-cf7498e15226",
   "metadata": {},
   "outputs": [],
   "source": [
    "data_collection = dict(zip(record_num, data_json))"
   ]
  },
  {
   "cell_type": "code",
   "execution_count": 8,
   "id": "a89624a2-0fff-45e7-8f07-0a7b3f29b485",
   "metadata": {},
   "outputs": [],
   "source": [
    "import json \n",
    "#with open(\"CrimeData2021.json\", \"w\") as outfile: \n",
    "#    json.dump(data_collection, outfile)"
   ]
  },
  {
   "cell_type": "code",
   "execution_count": 9,
   "id": "b3685bd0-13c2-49f7-91c6-d91c7dcc2b04",
   "metadata": {},
   "outputs": [],
   "source": [
    "json_file = {\n",
    "  \"incident\": data_collection\n",
    "}"
   ]
  },
  {
   "cell_type": "code",
   "execution_count": 10,
   "id": "28254ac1-4913-46e0-b894-a45fdccf66fc",
   "metadata": {},
   "outputs": [],
   "source": [
    "with open(\"CrimeData2021.json\", \"w\") as outfile: \n",
    "    json.dump(json_file, outfile)"
   ]
  },
  {
   "cell_type": "markdown",
   "id": "65fe705c-72b2-4cb8-8aea-1effc2e26c23",
   "metadata": {},
   "source": [
    "# get the data we need"
   ]
  },
  {
   "cell_type": "code",
   "execution_count": 5,
   "id": "22c2bbbe-e6fa-4c17-837d-fc5a91a3eaba",
   "metadata": {},
   "outputs": [],
   "source": [
    "crimes_df = pandas.DataFrame.from_records(crimes)"
   ]
  },
  {
   "cell_type": "code",
   "execution_count": 6,
   "id": "8e803f7a-39e6-49fa-a1a3-7dc0fe5b9473",
   "metadata": {},
   "outputs": [
    {
     "data": {
      "text/plain": [
       "Index(['dr_no', 'date_rptd', 'date_occ', 'time_occ', 'area', 'area_name',\n",
       "       'rpt_dist_no', 'part_1_2', 'crm_cd', 'crm_cd_desc', 'mocodes',\n",
       "       'vict_age', 'vict_sex', 'vict_descent', 'premis_cd', 'premis_desc',\n",
       "       'weapon_used_cd', 'weapon_desc', 'status', 'status_desc', 'crm_cd_1',\n",
       "       'crm_cd_2', 'location', 'lat', 'lon', 'cross_street', 'crm_cd_3',\n",
       "       'crm_cd_4'],\n",
       "      dtype='object')"
      ]
     },
     "execution_count": 6,
     "metadata": {},
     "output_type": "execute_result"
    }
   ],
   "source": [
    "crimes_df.columns"
   ]
  },
  {
   "cell_type": "code",
   "execution_count": 7,
   "id": "2e8b59b4-1d1f-483b-bc28-0a1d11e01c0e",
   "metadata": {},
   "outputs": [],
   "source": [
    "column = ['dr_no', 'date_occ', 'crm_cd', 'crm_cd_desc', 'rpt_dist_no', 'area_name', 'area', 'lat', 'lon']\n",
    "data = crimes_df[column]"
   ]
  },
  {
   "cell_type": "code",
   "execution_count": 26,
   "id": "adc83655-f88d-4552-b984-0b0f202305f1",
   "metadata": {},
   "outputs": [
    {
     "data": {
      "text/html": [
       "<div>\n",
       "<style scoped>\n",
       "    .dataframe tbody tr th:only-of-type {\n",
       "        vertical-align: middle;\n",
       "    }\n",
       "\n",
       "    .dataframe tbody tr th {\n",
       "        vertical-align: top;\n",
       "    }\n",
       "\n",
       "    .dataframe thead th {\n",
       "        text-align: right;\n",
       "    }\n",
       "</style>\n",
       "<table border=\"1\" class=\"dataframe\">\n",
       "  <thead>\n",
       "    <tr style=\"text-align: right;\">\n",
       "      <th></th>\n",
       "      <th>dr_no</th>\n",
       "      <th>date_occ</th>\n",
       "      <th>crm_cd</th>\n",
       "      <th>crm_cd_desc</th>\n",
       "      <th>rpt_dist_no</th>\n",
       "      <th>area_name</th>\n",
       "      <th>area</th>\n",
       "      <th>lat</th>\n",
       "      <th>lon</th>\n",
       "    </tr>\n",
       "  </thead>\n",
       "  <tbody>\n",
       "    <tr>\n",
       "      <th>0</th>\n",
       "      <td>211304029</td>\n",
       "      <td>2021-01-01T00:00:00.000</td>\n",
       "      <td>761</td>\n",
       "      <td>BRANDISH WEAPON</td>\n",
       "      <td>1367</td>\n",
       "      <td>Newton</td>\n",
       "      <td>13</td>\n",
       "      <td>34.0018</td>\n",
       "      <td>-118.2478</td>\n",
       "    </tr>\n",
       "    <tr>\n",
       "      <th>1</th>\n",
       "      <td>210904022</td>\n",
       "      <td>2021-01-01T00:00:00.000</td>\n",
       "      <td>230</td>\n",
       "      <td>ASSAULT WITH DEADLY WEAPON, AGGRAVATED ASSAULT</td>\n",
       "      <td>0946</td>\n",
       "      <td>Van Nuys</td>\n",
       "      <td>09</td>\n",
       "      <td>34.1794</td>\n",
       "      <td>-118.4312</td>\n",
       "    </tr>\n",
       "    <tr>\n",
       "      <th>2</th>\n",
       "      <td>211104041</td>\n",
       "      <td>2021-01-01T00:00:00.000</td>\n",
       "      <td>421</td>\n",
       "      <td>THEFT FROM MOTOR VEHICLE - ATTEMPT</td>\n",
       "      <td>1109</td>\n",
       "      <td>Northeast</td>\n",
       "      <td>11</td>\n",
       "      <td>34.1395</td>\n",
       "      <td>-118.2022</td>\n",
       "    </tr>\n",
       "    <tr>\n",
       "      <th>3</th>\n",
       "      <td>211104706</td>\n",
       "      <td>2021-01-01T00:00:00.000</td>\n",
       "      <td>420</td>\n",
       "      <td>THEFT FROM MOTOR VEHICLE - PETTY ($950 &amp; UNDER)</td>\n",
       "      <td>1146</td>\n",
       "      <td>Northeast</td>\n",
       "      <td>11</td>\n",
       "      <td>34.0955</td>\n",
       "      <td>-118.2418</td>\n",
       "    </tr>\n",
       "    <tr>\n",
       "      <th>4</th>\n",
       "      <td>220404460</td>\n",
       "      <td>2021-01-01T00:00:00.000</td>\n",
       "      <td>354</td>\n",
       "      <td>THEFT OF IDENTITY</td>\n",
       "      <td>0465</td>\n",
       "      <td>Hollenbeck</td>\n",
       "      <td>04</td>\n",
       "      <td>34.0339</td>\n",
       "      <td>-118.2012</td>\n",
       "    </tr>\n",
       "  </tbody>\n",
       "</table>\n",
       "</div>"
      ],
      "text/plain": [
       "       dr_no                 date_occ crm_cd  \\\n",
       "0  211304029  2021-01-01T00:00:00.000    761   \n",
       "1  210904022  2021-01-01T00:00:00.000    230   \n",
       "2  211104041  2021-01-01T00:00:00.000    421   \n",
       "3  211104706  2021-01-01T00:00:00.000    420   \n",
       "4  220404460  2021-01-01T00:00:00.000    354   \n",
       "\n",
       "                                       crm_cd_desc rpt_dist_no   area_name  \\\n",
       "0                                  BRANDISH WEAPON        1367      Newton   \n",
       "1   ASSAULT WITH DEADLY WEAPON, AGGRAVATED ASSAULT        0946    Van Nuys   \n",
       "2               THEFT FROM MOTOR VEHICLE - ATTEMPT        1109   Northeast   \n",
       "3  THEFT FROM MOTOR VEHICLE - PETTY ($950 & UNDER)        1146   Northeast   \n",
       "4                                THEFT OF IDENTITY        0465  Hollenbeck   \n",
       "\n",
       "  area      lat        lon  \n",
       "0   13  34.0018  -118.2478  \n",
       "1   09  34.1794  -118.4312  \n",
       "2   11  34.1395  -118.2022  \n",
       "3   11  34.0955  -118.2418  \n",
       "4   04  34.0339  -118.2012  "
      ]
     },
     "execution_count": 26,
     "metadata": {},
     "output_type": "execute_result"
    }
   ],
   "source": [
    "data.head()"
   ]
  },
  {
   "cell_type": "code",
   "execution_count": 27,
   "id": "95b414d6-a67a-4c2c-b3eb-bec828193b1e",
   "metadata": {},
   "outputs": [
    {
     "data": {
      "text/plain": [
       "206575"
      ]
     },
     "execution_count": 27,
     "metadata": {},
     "output_type": "execute_result"
    }
   ],
   "source": [
    "len(data)"
   ]
  },
  {
   "cell_type": "code",
   "execution_count": 8,
   "id": "3cfc5be4-00c1-43bc-8d52-f8437b6d707e",
   "metadata": {},
   "outputs": [],
   "source": [
    "crime_type = list(set(data['crm_cd_desc']))"
   ]
  },
  {
   "cell_type": "code",
   "execution_count": 9,
   "id": "3e25cb9f-bfe8-4b8e-b0ba-535223293538",
   "metadata": {},
   "outputs": [
    {
     "data": {
      "text/plain": [
       "['ARSON',\n",
       " 'CRIMINAL HOMICIDE',\n",
       " 'CHILD ABUSE (PHYSICAL) - AGGRAVATED ASSAULT',\n",
       " 'INTIMATE PARTNER - AGGRAVATED ASSAULT',\n",
       " 'ASSAULT WITH DEADLY WEAPON, AGGRAVATED ASSAULT',\n",
       " 'CHILD ABUSE (PHYSICAL) - SIMPLE ASSAULT',\n",
       " 'ASSAULT WITH DEADLY WEAPON ON POLICE OFFICER',\n",
       " 'OTHER ASSAULT',\n",
       " 'INTIMATE PARTNER - SIMPLE ASSAULT',\n",
       " 'BATTERY - SIMPLE ASSAULT',\n",
       " 'BATTERY WITH SEXUAL CONTACT',\n",
       " 'SEXUAL PENETRATION W/FOREIGN OBJECT',\n",
       " 'SODOMY/SEXUAL CONTACT B/W PENIS OF ONE PERS TO ANUS OTH',\n",
       " 'SEX,UNLAWFUL(INC MUTUAL CONSENT, PENETRATION W/ FRGN OBJ',\n",
       " 'INCEST (SEXUAL ACTS BETWEEN BLOOD RELATIVES)',\n",
       " 'BEASTIALITY, CRIME AGAINST NATURE SEXUAL ASSLT WITH ANIM',\n",
       " 'SEX OFFENDER REGISTRANT OUT OF COMPLIANCE',\n",
       " 'HUMAN TRAFFICKING - COMMERCIAL SEX ACTS',\n",
       " 'RAPE, FORCIBLE',\n",
       " 'RAPE, ATTEMPTED',\n",
       " 'ATTEMPTED ROBBERY',\n",
       " 'ROBBERY',\n",
       " 'KIDNAPPING',\n",
       " 'KIDNAPPING - GRAND ATTEMPT',\n",
       " 'BATTERY WITH SEXUAL CONTACT',\n",
       " 'BATTERY ON A FIREFIGHTER',\n",
       " 'BATTERY POLICE (SIMPLE)',\n",
       " 'BATTERY - SIMPLE ASSAULT',\n",
       " 'EXTORTION']"
      ]
     },
     "execution_count": 9,
     "metadata": {},
     "output_type": "execute_result"
    }
   ],
   "source": [
    "violent = ['ARSON', 'HOMICIDE', 'ASSAULT', 'MANSLAUGHTER', 'SEX', 'RAPE', 'ROBBERY', 'NEGLIGENCE', 'KIDNAPPING', 'BATTERY', 'EXTORTION', 'HARASSMENT', 'ENDANGERMENT', 'TERRORISM']\n",
    "\n",
    "volCrime = []\n",
    "for i in violent:\n",
    "    for j in crime_type:\n",
    "        if i in j:\n",
    "            volCrime.append(j)\n",
    "volCrime"
   ]
  },
  {
   "cell_type": "code",
   "execution_count": 10,
   "id": "5696815a-3b55-4d99-8d23-ce853e7adbff",
   "metadata": {},
   "outputs": [],
   "source": [
    "data_vol = pandas.DataFrame(columns=list(data.columns))\n",
    "\n",
    "for i in volCrime:\n",
    "    df = data.loc[data['crm_cd_desc'] == i]\n",
    "    data_vol = data_vol.append(df, ignore_index=True)"
   ]
  },
  {
   "cell_type": "code",
   "execution_count": 11,
   "id": "c75abda3-b647-48a3-a0df-2185c2487186",
   "metadata": {},
   "outputs": [
    {
     "data": {
      "text/html": [
       "<div>\n",
       "<style scoped>\n",
       "    .dataframe tbody tr th:only-of-type {\n",
       "        vertical-align: middle;\n",
       "    }\n",
       "\n",
       "    .dataframe tbody tr th {\n",
       "        vertical-align: top;\n",
       "    }\n",
       "\n",
       "    .dataframe thead th {\n",
       "        text-align: right;\n",
       "    }\n",
       "</style>\n",
       "<table border=\"1\" class=\"dataframe\">\n",
       "  <thead>\n",
       "    <tr style=\"text-align: right;\">\n",
       "      <th></th>\n",
       "      <th>dr_no</th>\n",
       "      <th>date_occ</th>\n",
       "      <th>crm_cd</th>\n",
       "      <th>crm_cd_desc</th>\n",
       "      <th>rpt_dist_no</th>\n",
       "      <th>area_name</th>\n",
       "      <th>area</th>\n",
       "      <th>lat</th>\n",
       "      <th>lon</th>\n",
       "    </tr>\n",
       "  </thead>\n",
       "  <tbody>\n",
       "    <tr>\n",
       "      <th>0</th>\n",
       "      <td>211504038</td>\n",
       "      <td>2021-01-01T00:00:00.000</td>\n",
       "      <td>648</td>\n",
       "      <td>ARSON</td>\n",
       "      <td>1587</td>\n",
       "      <td>N Hollywood</td>\n",
       "      <td>15</td>\n",
       "      <td>34.1387</td>\n",
       "      <td>-118.3598</td>\n",
       "    </tr>\n",
       "    <tr>\n",
       "      <th>1</th>\n",
       "      <td>210304108</td>\n",
       "      <td>2021-01-03T00:00:00.000</td>\n",
       "      <td>648</td>\n",
       "      <td>ARSON</td>\n",
       "      <td>0376</td>\n",
       "      <td>Southwest</td>\n",
       "      <td>03</td>\n",
       "      <td>0</td>\n",
       "      <td>0</td>\n",
       "    </tr>\n",
       "    <tr>\n",
       "      <th>2</th>\n",
       "      <td>211704155</td>\n",
       "      <td>2021-01-03T00:00:00.000</td>\n",
       "      <td>648</td>\n",
       "      <td>ARSON</td>\n",
       "      <td>1745</td>\n",
       "      <td>Devonshire</td>\n",
       "      <td>17</td>\n",
       "      <td>34.2612</td>\n",
       "      <td>-118.5054</td>\n",
       "    </tr>\n",
       "    <tr>\n",
       "      <th>3</th>\n",
       "      <td>210404088</td>\n",
       "      <td>2021-01-03T00:00:00.000</td>\n",
       "      <td>648</td>\n",
       "      <td>ARSON</td>\n",
       "      <td>0497</td>\n",
       "      <td>Hollenbeck</td>\n",
       "      <td>04</td>\n",
       "      <td>34.0217</td>\n",
       "      <td>-118.2161</td>\n",
       "    </tr>\n",
       "    <tr>\n",
       "      <th>4</th>\n",
       "      <td>210404086</td>\n",
       "      <td>2021-01-03T00:00:00.000</td>\n",
       "      <td>648</td>\n",
       "      <td>ARSON</td>\n",
       "      <td>0464</td>\n",
       "      <td>Hollenbeck</td>\n",
       "      <td>04</td>\n",
       "      <td>0</td>\n",
       "      <td>0</td>\n",
       "    </tr>\n",
       "    <tr>\n",
       "      <th>...</th>\n",
       "      <td>...</td>\n",
       "      <td>...</td>\n",
       "      <td>...</td>\n",
       "      <td>...</td>\n",
       "      <td>...</td>\n",
       "      <td>...</td>\n",
       "      <td>...</td>\n",
       "      <td>...</td>\n",
       "      <td>...</td>\n",
       "    </tr>\n",
       "    <tr>\n",
       "      <th>75085</th>\n",
       "      <td>221404317</td>\n",
       "      <td>2021-12-28T00:00:00.000</td>\n",
       "      <td>940</td>\n",
       "      <td>EXTORTION</td>\n",
       "      <td>1433</td>\n",
       "      <td>Pacific</td>\n",
       "      <td>14</td>\n",
       "      <td>34.001</td>\n",
       "      <td>-118.4532</td>\n",
       "    </tr>\n",
       "    <tr>\n",
       "      <th>75086</th>\n",
       "      <td>222104081</td>\n",
       "      <td>2021-12-29T00:00:00.000</td>\n",
       "      <td>940</td>\n",
       "      <td>EXTORTION</td>\n",
       "      <td>2111</td>\n",
       "      <td>Topanga</td>\n",
       "      <td>21</td>\n",
       "      <td>34.2096</td>\n",
       "      <td>-118.6559</td>\n",
       "    </tr>\n",
       "    <tr>\n",
       "      <th>75087</th>\n",
       "      <td>222004201</td>\n",
       "      <td>2021-12-30T00:00:00.000</td>\n",
       "      <td>940</td>\n",
       "      <td>EXTORTION</td>\n",
       "      <td>2062</td>\n",
       "      <td>Olympic</td>\n",
       "      <td>20</td>\n",
       "      <td>34.0527</td>\n",
       "      <td>-118.3101</td>\n",
       "    </tr>\n",
       "    <tr>\n",
       "      <th>75088</th>\n",
       "      <td>220804089</td>\n",
       "      <td>2021-12-31T00:00:00.000</td>\n",
       "      <td>940</td>\n",
       "      <td>EXTORTION</td>\n",
       "      <td>0836</td>\n",
       "      <td>West LA</td>\n",
       "      <td>08</td>\n",
       "      <td>34.0514</td>\n",
       "      <td>-118.4301</td>\n",
       "    </tr>\n",
       "    <tr>\n",
       "      <th>75089</th>\n",
       "      <td>222104908</td>\n",
       "      <td>2021-12-31T00:00:00.000</td>\n",
       "      <td>940</td>\n",
       "      <td>EXTORTION</td>\n",
       "      <td>2185</td>\n",
       "      <td>Topanga</td>\n",
       "      <td>21</td>\n",
       "      <td>34.1668</td>\n",
       "      <td>-118.6104</td>\n",
       "    </tr>\n",
       "  </tbody>\n",
       "</table>\n",
       "<p>75090 rows × 9 columns</p>\n",
       "</div>"
      ],
      "text/plain": [
       "           dr_no                 date_occ crm_cd crm_cd_desc rpt_dist_no  \\\n",
       "0      211504038  2021-01-01T00:00:00.000    648       ARSON        1587   \n",
       "1      210304108  2021-01-03T00:00:00.000    648       ARSON        0376   \n",
       "2      211704155  2021-01-03T00:00:00.000    648       ARSON        1745   \n",
       "3      210404088  2021-01-03T00:00:00.000    648       ARSON        0497   \n",
       "4      210404086  2021-01-03T00:00:00.000    648       ARSON        0464   \n",
       "...          ...                      ...    ...         ...         ...   \n",
       "75085  221404317  2021-12-28T00:00:00.000    940   EXTORTION        1433   \n",
       "75086  222104081  2021-12-29T00:00:00.000    940   EXTORTION        2111   \n",
       "75087  222004201  2021-12-30T00:00:00.000    940   EXTORTION        2062   \n",
       "75088  220804089  2021-12-31T00:00:00.000    940   EXTORTION        0836   \n",
       "75089  222104908  2021-12-31T00:00:00.000    940   EXTORTION        2185   \n",
       "\n",
       "         area_name area      lat        lon  \n",
       "0      N Hollywood   15  34.1387  -118.3598  \n",
       "1        Southwest   03        0          0  \n",
       "2       Devonshire   17  34.2612  -118.5054  \n",
       "3       Hollenbeck   04  34.0217  -118.2161  \n",
       "4       Hollenbeck   04        0          0  \n",
       "...            ...  ...      ...        ...  \n",
       "75085      Pacific   14   34.001  -118.4532  \n",
       "75086      Topanga   21  34.2096  -118.6559  \n",
       "75087      Olympic   20  34.0527  -118.3101  \n",
       "75088      West LA   08  34.0514  -118.4301  \n",
       "75089      Topanga   21  34.1668  -118.6104  \n",
       "\n",
       "[75090 rows x 9 columns]"
      ]
     },
     "execution_count": 11,
     "metadata": {},
     "output_type": "execute_result"
    }
   ],
   "source": [
    "data_vol"
   ]
  }
 ],
 "metadata": {
  "kernelspec": {
   "display_name": "Python 3 (ipykernel)",
   "language": "python",
   "name": "python3"
  },
  "language_info": {
   "codemirror_mode": {
    "name": "ipython",
    "version": 3
   },
   "file_extension": ".py",
   "mimetype": "text/x-python",
   "name": "python",
   "nbconvert_exporter": "python",
   "pygments_lexer": "ipython3",
   "version": "3.8.8"
  }
 },
 "nbformat": 4,
 "nbformat_minor": 5
}
